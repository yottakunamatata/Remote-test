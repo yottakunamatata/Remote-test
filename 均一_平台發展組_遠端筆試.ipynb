{
 "cells": [
  {
   "cell_type": "markdown",
   "metadata": {},
   "source": [
    "<font size=5>1. (A) 請寫一個程式把裡面的字串反過來。"
   ]
  },
  {
   "cell_type": "code",
   "execution_count": 23,
   "metadata": {},
   "outputs": [
    {
     "name": "stdout",
     "output_type": "stream",
     "text": [
      "pineapple\n"
     ]
    },
    {
     "data": {
      "text/plain": [
       "'elppaenip'"
      ]
     },
     "execution_count": 23,
     "metadata": {},
     "output_type": "execute_result"
    }
   ],
   "source": [
    "str = input()\n",
    "\n",
    "def reverse(str):\n",
    "    return  str[::-1]\n",
    "\n",
    "reverse(str)"
   ]
  },
  {
   "cell_type": "markdown",
   "metadata": {},
   "source": [
    "<font size=5>1. (B) 請寫一個程式把裡面的字串,每個單字本身做反轉,但是單字的順序不變。"
   ]
  },
  {
   "cell_type": "code",
   "execution_count": 28,
   "metadata": {},
   "outputs": [
    {
     "data": {
      "text/plain": [
       "['elppa', 'ananab', 'egnaro']"
      ]
     },
     "execution_count": 28,
     "metadata": {},
     "output_type": "execute_result"
    }
   ],
   "source": [
    "str = ['apple','banana','orange']\n",
    "\n",
    "def rev_str(str):\n",
    "    rev_list = []\n",
    "    for i in str:\n",
    "        rev_w = i[::-1]\n",
    "        rev_list.append(rev_w)\n",
    "    return rev_list\n",
    "        \n",
    "rev_str(str)"
   ]
  },
  {
   "cell_type": "markdown",
   "metadata": {},
   "source": [
    "<font size=5>2. 請寫一個程式,Input 是一個數字,Output 是從 1 到這個數字,扣除掉所有 3 的倍數以及 5 的倍數,但是需要保留同時是 3 和 5 的倍數的總數字數。"
   ]
  },
  {
   "cell_type": "code",
   "execution_count": 32,
   "metadata": {},
   "outputs": [
    {
     "data": {
      "text/plain": [
       "[1, 2, 4, 7, 8, 11, 13, 14, 15, 16, 17, 19, 22, 23, 26, 28, 29, 30, 31, 32]"
      ]
     },
     "execution_count": 32,
     "metadata": {},
     "output_type": "execute_result"
    }
   ],
   "source": [
    "def count_list(num):\n",
    "    list = []\n",
    "    for i in range(1,num+1):\n",
    "        if i%3==0 or i%5==0:\n",
    "            if i%15==0:\n",
    "                list.append(i)\n",
    "        else:\n",
    "            list.append(i)\n",
    "    return list\n",
    "\n",
    "count_list(33)"
   ]
  },
  {
   "cell_type": "markdown",
   "metadata": {},
   "source": [
    "<font size=5>3.<br>\n",
    "  房間裡有三個袋子,一個只裝鉛筆,一個只裝原子筆,第三個有鉛筆也有原子筆。<br>\n",
    "  袋子是不透明的,單從袋子的外表上看不出任何差異,你不知道哪個袋子裝什麼。<br>\n",
    "  除了袋子上各貼了一個標示(\"鉛筆\"、\"原子筆\"、\"混和\"),且標示都是錯的<br>\n",
    "  (e.g. 標示鉛筆的袋子可能是混和的或是只裝原子筆)。<br>\n",
    "  你只能選一個袋子,拿出裡面一支筆,看是鉛筆還是原子筆,然後你要推論出這三個袋子分別的情況。請列出你的作法,以及解釋為什麼這樣可以找到答案。"
   ]
  },
  {
   "cell_type": "markdown",
   "metadata": {},
   "source": [
    "我會選擇混合的袋子。<br>\n",
    "在此選擇下會有兩種情況：<br>\n",
    "\n",
    "1.<br>\n",
    "選擇混合，拿到鉛筆 --> 因標示都是錯的，代表此袋一定不是混合，此袋是鉛筆<br>\n",
    "因此其他兩袋只剩 原子筆、混合兩種可能<br>\n",
    "原子筆  --> 因標示是錯的，此袋不可能是原子筆，一定是混和<br>\n",
    "鉛筆  --> 因鉛筆、混合的情形都已確定，此袋就一定是原子筆<br>\n",
    "<br>\n",
    "2.<br>\n",
    "選擇混合，拿到原子筆 --> 因標示都是錯的，代表此袋一定不是混合，此袋是原子筆<br>\n",
    "因此其他兩袋只剩 鉛筆、混合兩種可能<br>\n",
    "鉛筆 --> 因標示是錯的，此袋不可能是鉛筆，一定是混和<br>\n",
    "原子筆 --> 因原子筆、混合的情形都已確定，此袋就一定是鉛筆 <br>"
   ]
  },
  {
   "cell_type": "markdown",
   "metadata": {},
   "source": [
    "<font size=5>4.<br>\n",
    "有三個人一起到迪士尼遊玩,中午肚子餓了,<br>\n",
    "去餐廳點了一份現在最夯的冰雪奇緣雙人組,要價 900 元,<br>\n",
    "付錢後,服務生發現今天套餐大特價,只要 750 元,因此服務生應該退還 150 元給這三個人,<br>\n",
    "但是這位服務生一時鬼迷心竅,決定暗槓 60元,只退了 90 元給這三個遊客。<br>\n",
    "那麼:三人各出 300 元 - 服務生還給他們一人 30 元 = 三人各出 270 元。<br>\n",
    "270元 × 3 人+ 服務生私吞的 60 元 = 810 + 60 = 870 !? <br>\n",
    "怎麼不是 900 元呢?還有 30 元去哪了呢?<br>\n",
    "請用敘述的方式,儘量清楚解釋問題出在哪裡。<br>"
   ]
  },
  {
   "cell_type": "markdown",
   "metadata": {},
   "source": [
    "現在有兩種情形：<br>\n",
    "1.正確的算法<br>\n",
    "900 - 60 - 3*30 = 750<br>\n",
    "每人應付的實際價格為750/3 = 250<br>\n",
    "\n",
    "2.題目誘導的算法<br>\n",
    "三人各出 300 元 - 服務生還給他們一人 30 元 = 三人各出 270 元。<br>\n",
    "270元 × 3 人+ 服務生私吞的 60 元 = 810 + 60 = 870<br>\n",
    "\n",
    "<br>\n",
    "2.的算法敘述是錯誤的，<br>\n",
    "因為不能把服務生A走的錢當成是餐費總價的一部分來計算，<br>\n",
    "\n",
    "假設只退了90給客人<br>\n",
    "代表每個人付出的價格是(900-90)/3 = 270<br>\n",
    "若想得到總價900，要把每個人付出的價格270乘以3，加回退錯的金額90，而不是服務生A走的金額60<br>\n",
    "因此2.的敘述是錯誤的誘導，和1.沒有關係<br>\n",
    "\n",
    "\n",
    "\n"
   ]
  },
  {
   "cell_type": "code",
   "execution_count": null,
   "metadata": {},
   "outputs": [],
   "source": []
  }
 ],
 "metadata": {
  "kernelspec": {
   "display_name": "Python 3",
   "language": "python",
   "name": "python3"
  },
  "language_info": {
   "codemirror_mode": {
    "name": "ipython",
    "version": 3
   },
   "file_extension": ".py",
   "mimetype": "text/x-python",
   "name": "python",
   "nbconvert_exporter": "python",
   "pygments_lexer": "ipython3",
   "version": "3.6.4"
  }
 },
 "nbformat": 4,
 "nbformat_minor": 2
}
